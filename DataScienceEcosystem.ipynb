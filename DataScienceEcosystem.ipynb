{
 "cells": [
  {
   "cell_type": "markdown",
   "id": "cfdfcb71-8cba-4664-a157-4bd6f9a73de6",
   "metadata": {},
   "source": [
    "# Data Science Tools and Ecosystem"
   ]
  },
  {
   "cell_type": "markdown",
   "id": "41bcc7e0-433e-4cd1-b3c1-c4ebef447bc5",
   "metadata": {},
   "source": [
    "## Introduction\n",
    "This notebook provides an overview of Data Science tools and ecosystems. It covers different languages, libraries, and tools used in Data Science, along with simple arithmetic operations.\n"
   ]
  },
  {
   "cell_type": "markdown",
   "id": "cf3b5d3c-aaee-4be8-8184-7a3ff7c1e022",
   "metadata": {},
   "source": [
    "## Data Science Languages\n",
    "Some popular languages that data scientists use are:\n",
    "1. Python\n",
    "2. R\n",
    "3. SQL\n",
    "4. Julia\n",
    "5. Scala\n"
   ]
  },
  {
   "cell_type": "markdown",
   "id": "59992d7b-c8a7-4855-9705-7e3f6ccf5a29",
   "metadata": {},
   "source": [
    "## Data Science Libraries\n",
    "Some of the commonly used libraries for data science include:\n",
    "- NumPy\n",
    "- Pandas\n",
    "- Matplotlib\n",
    "- Scikit-learn\n",
    "- TensorFlow\n",
    "- Keras\n"
   ]
  },
  {
   "cell_type": "markdown",
   "id": "b418181f-becd-464b-87f1-feb3f19dac86",
   "metadata": {},
   "source": [
    "## Data Science Tools\n",
    "| Tool           | Description                            |\n",
    "|---------------|--------------------------------|\n",
    "| Jupyter Notebook | Interactive environment for coding and documentation |\n",
    "| RStudio       | IDE for R programming language |\n",
    "| Apache Spark  | Big data processing framework |\n",
    "| TensorFlow    | Machine Learning library |\n",
    "| Tableau       | Data visualization tool |\n"
   ]
  },
  {
   "cell_type": "markdown",
   "id": "2eb44e2d-b44e-45b4-bfb3-35e5c7dd22a8",
   "metadata": {},
   "source": [
    "## Arithmetic Expressions in Python\n",
    "Below are some examples of arithmetic expressions, including addition, multiplication, and division.\n"
   ]
  },
  {
   "cell_type": "code",
   "execution_count": 1,
   "id": "d1b061d5-f7c7-4b02-9824-dcbf50079384",
   "metadata": {},
   "outputs": [
    {
     "data": {
      "text/plain": [
       "40"
      ]
     },
     "execution_count": 1,
     "metadata": {},
     "output_type": "execute_result"
    }
   ],
   "source": [
    "# Multiplication and addition example\n",
    "result = (5 * 6) + 10\n",
    "result\n"
   ]
  },
  {
   "cell_type": "code",
   "execution_count": 2,
   "id": "5e80d1b2-aa8d-4753-a323-7af344b2a40b",
   "metadata": {},
   "outputs": [
    {
     "data": {
      "text/plain": [
       "3.3333333333333335"
      ]
     },
     "execution_count": 2,
     "metadata": {},
     "output_type": "execute_result"
    }
   ],
   "source": [
    "# Convert 200 minutes to hours\n",
    "minutes = 200\n",
    "hours = minutes / 60\n",
    "hours\n"
   ]
  },
  {
   "cell_type": "markdown",
   "id": "567abe09-2ee8-4536-9588-ef74ecf227cb",
   "metadata": {},
   "source": [
    "## Objectives\n",
    "- List popular languages for Data Science\n",
    "- Identify key Data Science libraries\n",
    "- Understand commonly used tools\n",
    "- Perform basic arithmetic operations in Python\n",
    "- Convert minutes into hours using Python\n"
   ]
  },
  {
   "cell_type": "markdown",
   "id": "83cc3185-38f8-445d-b9c8-525954bd7311",
   "metadata": {},
   "source": [
    "## Author\n",
    "**Ravindu Gajasinghe**\n"
   ]
  }
 ],
 "metadata": {
  "kernelspec": {
   "display_name": "Python 3 (ipykernel)",
   "language": "python",
   "name": "python3"
  },
  "language_info": {
   "codemirror_mode": {
    "name": "ipython",
    "version": 3
   },
   "file_extension": ".py",
   "mimetype": "text/x-python",
   "name": "python",
   "nbconvert_exporter": "python",
   "pygments_lexer": "ipython3",
   "version": "3.12.6"
  }
 },
 "nbformat": 4,
 "nbformat_minor": 5
}
